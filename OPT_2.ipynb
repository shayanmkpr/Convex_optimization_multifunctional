{
 "cells": [
  {
   "cell_type": "code",
   "execution_count": 71,
   "metadata": {},
   "outputs": [],
   "source": [
    "import numpy as np\n",
    "import sympy as sp\n",
    "import matplotlib.pyplot as plt\n",
    "\n",
    "def f(x, a , b):\n",
    "    f_i = np.zeros(500)\n",
    "    for i in range(500):\n",
    "        f_i[i] = ((a[i] @ x) + b[i])\n",
    "    f_max = np.max(np.abs(f_i))\n",
    "    return f_max\n",
    "\n"
   ]
  },
  {
   "cell_type": "code",
   "execution_count": 104,
   "metadata": {},
   "outputs": [],
   "source": [
    "def gradient(f, x, input_size):\n",
    "    h = 1e-10\n",
    "    grad = np.zeros((input_size, 1))\n",
    "    for i in range(input_size):\n",
    "        delta = np.zeros((input_size, 1))\n",
    "        delta[i][0] = h\n",
    "        grad[i][0] = (f(x + delta) - f(x)) / h\n",
    "    return grad\n",
    "\n",
    "\n",
    "\n",
    "\n",
    "\n",
    "def projected_gradient(x, c , d):\n",
    "    n = 50\n",
    "    c_t = np.transpose(c)\n",
    "    inv = (np.linalg.inv(c @ c_t))\n",
    "    prj = np.eye(n) - (c_t @ inv @ c)\n",
    "\n",
    "\n",
    "\n",
    "\n",
    "\n",
    "def gradient_descent_alpha(f , x0,max_iter, tol,step , a , b , c , d):\n",
    "    x = x0.reshape(-1, 1)\n",
    "    input_size = len(x)\n",
    "    val = np.zeros(max_iter)\n",
    "    val[0] = f(x , a , b)\n",
    "\n",
    "    x_history = [x.flatten()]\n",
    "    print(\"CONSTANT ALPHA STEP SIZE\")\n",
    "    print(\"Iteration\\tX Value\\t\\t\\t\\tFunction Value\")\n",
    "    print(f\"0\\t\\t{x.flatten()}\\t\\t{val[0]}\")\n",
    "\n",
    "    for k in range(1, max_iter):\n",
    "        # Using a constant step size (alpha)\n",
    "        projected_step = (projected_gradient(x, c , d) )\n",
    "        f_i = f(x , a , b)\n",
    "        x = x - (projected_step @ gradient(f_i , x , 50))\n",
    "        val[k] = f(x)\n",
    "\n",
    "        x_history.append(x.flatten())\n",
    "\n",
    "        print(f\"{k}\\t\\t{x.flatten()}\\t{val[k]}\")\n",
    "\n",
    "        # Check for convergence\n",
    "        if np.linalg.norm(projected_gradient(f, x, input_size)) < tol:\n",
    "            break\n",
    "\n",
    "    return x, val[:k+1], np.array(x_history)"
   ]
  },
  {
   "cell_type": "code",
   "execution_count": 105,
   "metadata": {},
   "outputs": [
    {
     "data": {
      "text/plain": [
       "12.434392442605542"
      ]
     },
     "execution_count": 105,
     "metadata": {},
     "output_type": "execute_result"
    }
   ],
   "source": [
    "x0 = np.random.normal(0 , 4 , 50)\n",
    "step = 1\n",
    "a = np.zeros((500 , 50))\n",
    "c = np.zeros((500 , 50))\n",
    "b = np.zeros((500 , 1))\n",
    "d = np.zeros((500 , 1))\n",
    "for i in range(500):\n",
    "    a[i] = np.random.normal(0, 4, 50)\n",
    "    c[i] = np.random.normal(0, 4, 50)\n",
    "    b[i] = np.random.normal(0, 4, 1)\n",
    "    d[i] = np.random.normal(0, 4, 1)\n",
    "np.transpose(a[55]) @ a[56]"
   ]
  },
  {
   "cell_type": "code",
   "execution_count": 106,
   "metadata": {},
   "outputs": [
    {
     "name": "stdout",
     "output_type": "stream",
     "text": [
      "CONSTANT ALPHA STEP SIZE\n",
      "Iteration\tX Value\t\t\t\tFunction Value\n",
      "0\t\t[-1.93764183 -0.49609833  1.5823543  -1.39635541 -1.29895714 -6.28392263\n",
      "  1.70968783  2.47020287  2.34521911  4.07843064  0.89963623  4.80081568\n",
      "  4.59031797  0.6313762  -1.42775017  5.53477726  2.93725844 -2.55461153\n",
      " -3.8694385  -3.37615861  1.33341267 -5.75397637  4.89292226 -1.19185084\n",
      "  8.5139483   1.30470239  3.9505085   4.02504435  3.53033146  3.84660393\n",
      "  3.29175121 -0.10790797  0.90927556 -6.79893598  7.31829005 -2.9680759\n",
      " -6.66019502 -0.54666344 -4.18985756 -3.93643457 -3.36035888  5.1583637\n",
      "  3.58075394  2.60278623 -3.93494285  0.04688446  6.05896729 -1.76030721\n",
      " -4.18399123  2.12327463]\t\t315.01690645819593\n"
     ]
    },
    {
     "ename": "TypeError",
     "evalue": "'numpy.float64' object is not callable",
     "output_type": "error",
     "traceback": [
      "\u001b[1;31m---------------------------------------------------------------------------\u001b[0m",
      "\u001b[1;31mTypeError\u001b[0m                                 Traceback (most recent call last)",
      "\u001b[1;32mUntitled-3.ipynb Cell 4\u001b[0m line \u001b[0;36m1\n\u001b[1;32m----> <a href='vscode-notebook-cell:Untitled-3.ipynb?jupyter-notebook#W2sdW50aXRsZWQ%3D?line=0'>1</a>\u001b[0m minimizer_f1_new, values_f1_new, x_history_f1_new \u001b[39m=\u001b[39m gradient_descent_alpha(f, x0, \u001b[39m1000\u001b[39m, \u001b[39m1e-10\u001b[39m, step, a , b , c , d)\n",
      "\u001b[1;32mUntitled-3.ipynb Cell 4\u001b[0m line \u001b[0;36m3\n\u001b[0;32m     <a href='vscode-notebook-cell:Untitled-3.ipynb?jupyter-notebook#W2sdW50aXRsZWQ%3D?line=36'>37</a>\u001b[0m projected_step \u001b[39m=\u001b[39m (projected_gradient(x, c , d) )\n\u001b[0;32m     <a href='vscode-notebook-cell:Untitled-3.ipynb?jupyter-notebook#W2sdW50aXRsZWQ%3D?line=37'>38</a>\u001b[0m f_i \u001b[39m=\u001b[39m f(x , a , b)\n\u001b[1;32m---> <a href='vscode-notebook-cell:Untitled-3.ipynb?jupyter-notebook#W2sdW50aXRsZWQ%3D?line=38'>39</a>\u001b[0m x \u001b[39m=\u001b[39m x \u001b[39m-\u001b[39m (projected_step \u001b[39m@\u001b[39m gradient(f_i , x , \u001b[39m50\u001b[39m))\n\u001b[0;32m     <a href='vscode-notebook-cell:Untitled-3.ipynb?jupyter-notebook#W2sdW50aXRsZWQ%3D?line=39'>40</a>\u001b[0m val[k] \u001b[39m=\u001b[39m f(x)\n\u001b[0;32m     <a href='vscode-notebook-cell:Untitled-3.ipynb?jupyter-notebook#W2sdW50aXRsZWQ%3D?line=41'>42</a>\u001b[0m x_history\u001b[39m.\u001b[39mappend(x\u001b[39m.\u001b[39mflatten())\n",
      "\u001b[1;32mUntitled-3.ipynb Cell 4\u001b[0m line \u001b[0;36m7\n\u001b[0;32m      <a href='vscode-notebook-cell:Untitled-3.ipynb?jupyter-notebook#W2sdW50aXRsZWQ%3D?line=4'>5</a>\u001b[0m     delta \u001b[39m=\u001b[39m np\u001b[39m.\u001b[39mzeros((input_size, \u001b[39m1\u001b[39m))\n\u001b[0;32m      <a href='vscode-notebook-cell:Untitled-3.ipynb?jupyter-notebook#W2sdW50aXRsZWQ%3D?line=5'>6</a>\u001b[0m     delta[i][\u001b[39m0\u001b[39m] \u001b[39m=\u001b[39m h\n\u001b[1;32m----> <a href='vscode-notebook-cell:Untitled-3.ipynb?jupyter-notebook#W2sdW50aXRsZWQ%3D?line=6'>7</a>\u001b[0m     grad[i][\u001b[39m0\u001b[39m] \u001b[39m=\u001b[39m (f(x \u001b[39m+\u001b[39m delta) \u001b[39m-\u001b[39m f(x)) \u001b[39m/\u001b[39m h\n\u001b[0;32m      <a href='vscode-notebook-cell:Untitled-3.ipynb?jupyter-notebook#W2sdW50aXRsZWQ%3D?line=7'>8</a>\u001b[0m \u001b[39mreturn\u001b[39;00m grad\n",
      "\u001b[1;31mTypeError\u001b[0m: 'numpy.float64' object is not callable"
     ]
    }
   ],
   "source": [
    "minimizer_f1_new, values_f1_new, x_history_f1_new = gradient_descent_alpha(f, x0, 1000, 1e-10, step, a , b , c , d)"
   ]
  },
  {
   "cell_type": "code",
   "execution_count": null,
   "metadata": {},
   "outputs": [],
   "source": []
  }
 ],
 "metadata": {
  "kernelspec": {
   "display_name": "base",
   "language": "python",
   "name": "python3"
  },
  "language_info": {
   "codemirror_mode": {
    "name": "ipython",
    "version": 3
   },
   "file_extension": ".py",
   "mimetype": "text/x-python",
   "name": "python",
   "nbconvert_exporter": "python",
   "pygments_lexer": "ipython3",
   "version": "3.11.4"
  }
 },
 "nbformat": 4,
 "nbformat_minor": 2
}
